{
 "cells": [
  {
   "cell_type": "markdown",
   "id": "5d4e1abe",
   "metadata": {},
   "source": [
    "### El siguiente ejercicio consiste en generar un analisis de sentimientos con base en la informacion recolectada en una encuesta realizada a clientes BAC."
   ]
  },
  {
   "cell_type": "markdown",
   "id": "4e3ae219",
   "metadata": {
    "vscode": {
     "languageId": "plaintext"
    }
   },
   "source": [
    "# 1. Carga de librerias "
   ]
  },
  {
   "cell_type": "code",
   "execution_count": 39,
   "id": "bb4090f5",
   "metadata": {},
   "outputs": [],
   "source": [
    "import numpy as np\n",
    "import pandas as pd \n",
    "import matplotlib.pyplot as plt\n",
    "import seaborn as sns\n",
    "from sklearn.model_selection import train_test_split\n",
    "from tensorflow.keras import models, layers\n",
    "import os"
   ]
  },
  {
   "cell_type": "markdown",
   "id": "3924df3c",
   "metadata": {},
   "source": [
    "# 2. Lectura del dataset"
   ]
  },
  {
   "cell_type": "code",
   "execution_count": null,
   "id": "2cbcba81",
   "metadata": {},
   "outputs": [],
   "source": [
    "\n",
    "path=os.path.expanduser('~/projects/deep_learning/data/raw/Caso Comunidad Ciencia de Datos NLP.xlsx')\n",
    "\n",
    "df= pd.read_excel(path,sheet_name='Training')"
   ]
  },
  {
   "cell_type": "code",
   "execution_count": 33,
   "id": "5734e83e",
   "metadata": {},
   "outputs": [],
   "source": [
    "df_test=pd.read_excel(path,sheet_name='Testing')"
   ]
  },
  {
   "cell_type": "code",
   "execution_count": 34,
   "id": "84fc5913",
   "metadata": {},
   "outputs": [
    {
     "data": {
      "text/plain": [
       "Index(['Comentario', 'Probabilidad Sentimiento', 'Etapa', 'Dolor'], dtype='object')"
      ]
     },
     "execution_count": 34,
     "metadata": {},
     "output_type": "execute_result"
    }
   ],
   "source": [
    "df.columns"
   ]
  },
  {
   "cell_type": "code",
   "execution_count": 35,
   "id": "c1359da6",
   "metadata": {},
   "outputs": [
    {
     "data": {
      "text/plain": [
       "(87, 4)"
      ]
     },
     "execution_count": 35,
     "metadata": {},
     "output_type": "execute_result"
    }
   ],
   "source": [
    "df.shape"
   ]
  },
  {
   "cell_type": "code",
   "execution_count": 38,
   "id": "3cd8d391",
   "metadata": {},
   "outputs": [
    {
     "data": {
      "text/html": [
       "<div>\n",
       "<style scoped>\n",
       "    .dataframe tbody tr th:only-of-type {\n",
       "        vertical-align: middle;\n",
       "    }\n",
       "\n",
       "    .dataframe tbody tr th {\n",
       "        vertical-align: top;\n",
       "    }\n",
       "\n",
       "    .dataframe thead th {\n",
       "        text-align: right;\n",
       "    }\n",
       "</style>\n",
       "<table border=\"1\" class=\"dataframe\">\n",
       "  <thead>\n",
       "    <tr style=\"text-align: right;\">\n",
       "      <th></th>\n",
       "      <th>Comentario</th>\n",
       "      <th>Probabilidad Sentimiento</th>\n",
       "      <th>Etapa</th>\n",
       "      <th>Dolor</th>\n",
       "    </tr>\n",
       "  </thead>\n",
       "  <tbody>\n",
       "    <tr>\n",
       "      <th>0</th>\n",
       "      <td>Hubo inconsistencia en la información que me b...</td>\n",
       "      <td>probas={NEG: 0.969, NEU: 0.030, POS: 0.001})</td>\n",
       "      <td>FIDELIZACIÓN</td>\n",
       "      <td>Me dan información poco fiable</td>\n",
       "    </tr>\n",
       "    <tr>\n",
       "      <th>1</th>\n",
       "      <td>Pésimo atención de las chicas que están a la e...</td>\n",
       "      <td>probas={NEG: 0.999, NEU: 0.001, POS: 0.000})</td>\n",
       "      <td>FIDELIZACIÓN</td>\n",
       "      <td>Servicio impersonal y de poca calidad</td>\n",
       "    </tr>\n",
       "    <tr>\n",
       "      <th>2</th>\n",
       "      <td>Me atendió una persona que estaban capacitando...</td>\n",
       "      <td>probas={NEG: 0.981, NEU: 0.018, POS: 0.001})</td>\n",
       "      <td>FIDELIZACIÓN</td>\n",
       "      <td>Servicio impersonal y de poca calidad</td>\n",
       "    </tr>\n",
       "    <tr>\n",
       "      <th>3</th>\n",
       "      <td>Pésima asesoría departe de la asesora en plata...</td>\n",
       "      <td>probas={NEG: 0.998, NEU: 0.001, POS: 0.001})</td>\n",
       "      <td>FIDELIZACIÓN</td>\n",
       "      <td>Me dan información poco fiable</td>\n",
       "    </tr>\n",
       "    <tr>\n",
       "      <th>4</th>\n",
       "      <td>Tuve un intento de fraude el día 08/2, donde m...</td>\n",
       "      <td>probas={NEG: 0.982, NEU: 0.017, POS: 0.001})</td>\n",
       "      <td>FIDELIZACIÓN</td>\n",
       "      <td>Sus sistemas son vulnerables</td>\n",
       "    </tr>\n",
       "    <tr>\n",
       "      <th>...</th>\n",
       "      <td>...</td>\n",
       "      <td>...</td>\n",
       "      <td>...</td>\n",
       "      <td>...</td>\n",
       "    </tr>\n",
       "    <tr>\n",
       "      <th>82</th>\n",
       "      <td>Siento que cada actualización la aplicación es...</td>\n",
       "      <td>probas={NEG: 0.997, NEU: 0.003, POS: 0.000})</td>\n",
       "      <td>USO / RESOLUCIÓN</td>\n",
       "      <td>Tengo problemas con sus Soluciones Digitales</td>\n",
       "    </tr>\n",
       "    <tr>\n",
       "      <th>83</th>\n",
       "      <td>No he logrado usar código Bac he tenido inconv...</td>\n",
       "      <td>probas={NEG: 0.761, NEU: 0.237, POS: 0.002})</td>\n",
       "      <td>USO / RESOLUCIÓN</td>\n",
       "      <td>Tengo problemas con sus Soluciones Digitales</td>\n",
       "    </tr>\n",
       "    <tr>\n",
       "      <th>84</th>\n",
       "      <td>La aplicación usada desde el iPad no funciona,...</td>\n",
       "      <td>probas={NEG: 0.976, NEU: 0.023, POS: 0.001})</td>\n",
       "      <td>USO / RESOLUCIÓN</td>\n",
       "      <td>Tengo problemas con sus Soluciones Digitales</td>\n",
       "    </tr>\n",
       "    <tr>\n",
       "      <th>85</th>\n",
       "      <td>Como uso mi código bac en la computadora? Q ma...</td>\n",
       "      <td>probas={NEG: 0.997, NEU: 0.003, POS: 0.000})</td>\n",
       "      <td>USO / RESOLUCIÓN</td>\n",
       "      <td>Tengo problemas con sus Soluciones Digitales</td>\n",
       "    </tr>\n",
       "    <tr>\n",
       "      <th>86</th>\n",
       "      <td>No he logrado en 5 intentos que se visualice e...</td>\n",
       "      <td>probas={NEG: 0.812, NEU: 0.186, POS: 0.002})</td>\n",
       "      <td>USO / RESOLUCIÓN</td>\n",
       "      <td>Tengo problemas con sus Soluciones Digitales</td>\n",
       "    </tr>\n",
       "  </tbody>\n",
       "</table>\n",
       "<p>87 rows × 4 columns</p>\n",
       "</div>"
      ],
      "text/plain": [
       "                                           Comentario  ...                                         Dolor\n",
       "0   Hubo inconsistencia en la información que me b...  ...                Me dan información poco fiable\n",
       "1   Pésimo atención de las chicas que están a la e...  ...         Servicio impersonal y de poca calidad\n",
       "2   Me atendió una persona que estaban capacitando...  ...         Servicio impersonal y de poca calidad\n",
       "3   Pésima asesoría departe de la asesora en plata...  ...                Me dan información poco fiable\n",
       "4   Tuve un intento de fraude el día 08/2, donde m...  ...                  Sus sistemas son vulnerables\n",
       "..                                                ...  ...                                           ...\n",
       "82  Siento que cada actualización la aplicación es...  ...  Tengo problemas con sus Soluciones Digitales\n",
       "83  No he logrado usar código Bac he tenido inconv...  ...  Tengo problemas con sus Soluciones Digitales\n",
       "84  La aplicación usada desde el iPad no funciona,...  ...  Tengo problemas con sus Soluciones Digitales\n",
       "85  Como uso mi código bac en la computadora? Q ma...  ...  Tengo problemas con sus Soluciones Digitales\n",
       "86  No he logrado en 5 intentos que se visualice e...  ...  Tengo problemas con sus Soluciones Digitales\n",
       "\n",
       "[87 rows x 4 columns]"
      ]
     },
     "execution_count": 38,
     "metadata": {},
     "output_type": "execute_result"
    }
   ],
   "source": [
    "df.head(100)"
   ]
  },
  {
   "cell_type": "code",
   "execution_count": null,
   "id": "3653e746",
   "metadata": {},
   "outputs": [],
   "source": []
  }
 ],
 "metadata": {
  "kernelspec": {
   "display_name": "dlenv",
   "language": "python",
   "name": "python3"
  },
  "language_info": {
   "codemirror_mode": {
    "name": "ipython",
    "version": 3
   },
   "file_extension": ".py",
   "mimetype": "text/x-python",
   "name": "python",
   "nbconvert_exporter": "python",
   "pygments_lexer": "ipython3",
   "version": "3.12.7"
  }
 },
 "nbformat": 4,
 "nbformat_minor": 5
}
