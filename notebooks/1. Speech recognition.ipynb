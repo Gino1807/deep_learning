{
 "cells": [
  {
   "cell_type": "markdown",
   "id": "20e2f623",
   "metadata": {},
   "source": [
    "## Speech Recognition"
   ]
  },
  {
   "cell_type": "code",
   "execution_count": null,
   "id": "7f876325",
   "metadata": {},
   "outputs": [],
   "source": [
    "import os\n",
    "import pandas as pd\n",
    "import numpy as np\n",
    "import matplotlib.pyplot as plt\n",
    "import seaborn as sns\n",
    "import IPython.display as ipd\n",
    "import librosa\n"
   ]
  },
  {
   "cell_type": "markdown",
   "id": "6705138b",
   "metadata": {},
   "source": [
    "Constantes"
   ]
  },
  {
   "cell_type": "code",
   "execution_count": null,
   "id": "01d0e5d1",
   "metadata": {},
   "outputs": [],
   "source": [
    "DATASET_ROOT='/Users/ginovalverde/projects/deep_learning/data/raw/16000_pcm_speeches'\n",
    "BENJAMIN_DATA=os.path.join(DATASET_ROOT, 'Benjamin_Netanyau')\n",
    "JENS_DATA=os.path.join(DATASET_ROOT, 'Jens_Stoltenberg')\n",
    "JULIA_DATA=os.path.join(DATASET_ROOT, 'Julia_Gillard')\n",
    "MARGARET_DATA=os.path.join(DATASET_ROOT, 'Magaret_Tarcher')\n",
    "NELSON_DATA=os.path.join(DATASET_ROOT, 'Nelson_Mandela')"
   ]
  },
  {
   "cell_type": "code",
   "execution_count": null,
   "id": "a039f049",
   "metadata": {},
   "outputs": [],
   "source": [
    "os.path.exists(DATASET_ROOT), f\"Dataset root {DATASET_ROOT} does not exist\""
   ]
  },
  {
   "cell_type": "markdown",
   "id": "72008bbe",
   "metadata": {},
   "source": [
    "Play audios from speech files"
   ]
  },
  {
   "cell_type": "code",
   "execution_count": null,
   "id": "fce7099d",
   "metadata": {},
   "outputs": [],
   "source": [
    "ipd.Audio(os.path.join(BENJAMIN_DATA, '22.wav'))"
   ]
  },
  {
   "cell_type": "code",
   "execution_count": null,
   "id": "7aa8bf6d",
   "metadata": {},
   "outputs": [],
   "source": [
    "wav, sr = librosa.load(os.path.join(BENJAMIN_DATA, '22.wav'))"
   ]
  },
  {
   "cell_type": "code",
   "execution_count": null,
   "id": "c10465b1",
   "metadata": {},
   "outputs": [],
   "source": [
    "print(wav)"
   ]
  },
  {
   "cell_type": "code",
   "execution_count": null,
   "id": "d730837e",
   "metadata": {},
   "outputs": [],
   "source": [
    "print(sr)"
   ]
  },
  {
   "cell_type": "code",
   "execution_count": null,
   "id": "94127226",
   "metadata": {},
   "outputs": [],
   "source": [
    "print('the audio long is',len(wav)/sr, \"seconds\")"
   ]
  },
  {
   "cell_type": "markdown",
   "id": "117d7033",
   "metadata": {},
   "source": [
    "Wav visualization"
   ]
  },
  {
   "cell_type": "code",
   "execution_count": null,
   "id": "15604f21",
   "metadata": {},
   "outputs": [],
   "source": [
    "plt.plot(wav)\n",
    "plt.show()"
   ]
  },
  {
   "cell_type": "code",
   "execution_count": null,
   "id": "260781de",
   "metadata": {},
   "outputs": [],
   "source": [
    "plt.plot(wav[1000:1200])"
   ]
  },
  {
   "cell_type": "code",
   "execution_count": null,
   "id": "9f5fb891",
   "metadata": {},
   "outputs": [],
   "source": [
    "wav,sr = librosa.load(os.path.join(BENJAMIN_DATA, '22.wav'), sr=None)\n",
    "print('Sampling rate: {} Hz'.format(sr))    "
   ]
  },
  {
   "cell_type": "markdown",
   "id": "bd32f20b",
   "metadata": {},
   "source": [
    "## Dataset Preparation"
   ]
  },
  {
   "cell_type": "code",
   "execution_count": null,
   "id": "4576aa49",
   "metadata": {},
   "outputs": [],
   "source": [
    "def parse_dataset(dataset_paths):\n",
    "    \"\"\"\n",
    "    Parse the dataset and return a DataFrame with the file paths and labels.\n",
    "    \"\"\"\n",
    "    X = []\n",
    "    y = []\n",
    "    for index, dataset in enumerate (dataset_paths):\n",
    "        print(\"[+] Prsing {} data ...\".format(dataset))\n",
    "        for fname in os.listdir(dataset):\n",
    "            wav,sr = librosa.load(os.path.join(dataset, fname), sr=None)\n",
    "            X.append(wav)\n",
    "            y.append(index)\n",
    "    return(X, y)\n",
    "    "
   ]
  },
  {
   "cell_type": "code",
   "execution_count": null,
   "id": "005a0f9a",
   "metadata": {},
   "outputs": [],
   "source": [
    "X,y = parse_dataset([BENJAMIN_DATA, JENS_DATA])"
   ]
  },
  {
   "cell_type": "code",
   "execution_count": null,
   "id": "85ab0ed0",
   "metadata": {},
   "outputs": [],
   "source": [
    "print(\"Dataframe shape:\",len(X), len(y))"
   ]
  },
  {
   "cell_type": "markdown",
   "id": "93775195",
   "metadata": {},
   "source": [
    "## Dataset split"
   ]
  },
  {
   "cell_type": "code",
   "execution_count": null,
   "id": "387bc272",
   "metadata": {},
   "outputs": [],
   "source": [
    "from sklearn.model_selection import train_test_split"
   ]
  },
  {
   "cell_type": "code",
   "execution_count": null,
   "id": "60adad4c",
   "metadata": {},
   "outputs": [],
   "source": [
    "X_train, X_test, y_train, y_test = train_test_split(X, y, test_size=0.05 , random_state=42)"
   ]
  },
  {
   "cell_type": "code",
   "execution_count": null,
   "id": "1b1bb7b9",
   "metadata": {},
   "outputs": [],
   "source": [
    "print(\"Lenght of train set:\", len(X_train))\n",
    "print(\"Lenght of test set:\", len(X_test))"
   ]
  },
  {
   "cell_type": "markdown",
   "id": "0fdb26d7",
   "metadata": {},
   "source": [
    "## Model"
   ]
  },
  {
   "cell_type": "code",
   "execution_count": null,
   "id": "45274849",
   "metadata": {},
   "outputs": [],
   "source": [
    "from sklearn.neural_network import MLPClassifier\n",
    "\n",
    "clf= MLPClassifier(activation='logistic',hidden_layer_sizes=(10,),solver='sgd')\n",
    "clf.fit(X_train, y_train)"
   ]
  },
  {
   "cell_type": "code",
   "execution_count": null,
   "id": "cdb88ec2",
   "metadata": {},
   "outputs": [],
   "source": [
    "y_pred = clf.predict(X_test)"
   ]
  },
  {
   "cell_type": "code",
   "execution_count": null,
   "id": "0a1c2bde",
   "metadata": {},
   "outputs": [],
   "source": [
    "from sklearn.metrics import classification_report, confusion_matrix,f1_score"
   ]
  },
  {
   "cell_type": "code",
   "execution_count": null,
   "id": "eaa95540",
   "metadata": {},
   "outputs": [],
   "source": [
    "print(classification_report(y_test, y_pred))\n",
    "print(confusion_matrix(y_test, y_pred))\n",
    "print(f1_score(y_test, y_pred, average='binary'))"
   ]
  },
  {
   "cell_type": "markdown",
   "id": "948c6018",
   "metadata": {},
   "source": [
    "## Part 2. Another sound representation : Spectrograms"
   ]
  },
  {
   "cell_type": "code",
   "execution_count": null,
   "id": "5cdb9208",
   "metadata": {},
   "outputs": [],
   "source": [
    "#Fourier transformation\n",
    "D= librosa.amplitude_to_db(np.abs(librosa.stft(wav)), ref=np.max)\n",
    "librosa.display.specshow(D, y_axis='linear')\n",
    "plt.show()"
   ]
  },
  {
   "cell_type": "markdown",
   "id": "354c662e",
   "metadata": {},
   "source": [
    "* **librosa.stft**: Calcula la transformada de fourie. Los valores de retorno son una matriz donde X son los numeros de ventada e Y son las frecuencias.\n",
    "* **np.abs**: toma el absoluto del stft en caso de numero complejo devuelve el absoluto de la parte real. \n",
    "* **librosa.amplirud_a_db**: Convierte los valores a Decibelios.\n",
    "* **librosa.display.specshow**: Muestra el espectrograma."
   ]
  },
  {
   "cell_type": "code",
   "execution_count": null,
   "id": "c28a9067",
   "metadata": {},
   "outputs": [],
   "source": [
    "D.shape"
   ]
  },
  {
   "cell_type": "markdown",
   "id": "0027b02b",
   "metadata": {},
   "source": [
    "## Data Prep"
   ]
  },
  {
   "cell_type": "code",
   "execution_count": null,
   "id": "45a40c0d",
   "metadata": {},
   "outputs": [],
   "source": [
    "def parse_dataset(dataset_paths):\n",
    "    \"\"\"\n",
    "    Parse the dataset and return a DataFrame with the file paths and labels.\n",
    "    \"\"\"\n",
    "    X = []\n",
    "    y = []\n",
    "    for index, dataset in enumerate (dataset_paths):\n",
    "        print(\"[+] Prsing {} data ...\".format(dataset))\n",
    "        for fname in os.listdir(dataset):\n",
    "            wav,sr = librosa.load(os.path.join(dataset, fname), sr=None)\n",
    "            D= librosa.amplitude_to_db(np.abs(librosa.stft(wav)), ref=np.max)\n",
    "            X.append(D)\n",
    "            y.append(index)\n",
    "    return(X, y)\n",
    "    "
   ]
  },
  {
   "cell_type": "code",
   "execution_count": null,
   "id": "daa57965",
   "metadata": {},
   "outputs": [],
   "source": [
    "#X_prep, y_prep = parse_dataset([BENJAMIN_DATA, JENS_DATA])\n",
    "\n",
    "X_prep, y_prep = parse_dataset([BENJAMIN_DATA, JENS_DATA,JULIA_DATA,MARGARET_DATA,NELSON_DATA])"
   ]
  },
  {
   "cell_type": "code",
   "execution_count": null,
   "id": "5bf00f39",
   "metadata": {},
   "outputs": [],
   "source": [
    "X_train, X_test, y_train, y_test = train_test_split(X_prep, y_prep, test_size=0.05 , random_state=42)"
   ]
  },
  {
   "cell_type": "code",
   "execution_count": null,
   "id": "5f4ab3d6",
   "metadata": {},
   "outputs": [],
   "source": [
    "X_train[0].shape"
   ]
  },
  {
   "cell_type": "code",
   "execution_count": null,
   "id": "a484c2f3",
   "metadata": {},
   "outputs": [],
   "source": [
    "X_train_prep=np.array(X_train).reshape((len(X_train),1025*32))\n",
    "X_train_prep=np.array(X_train_prep).astype('float')/255 #Normalization\n",
    "y_train_prep=np.array(y_train)\n",
    "\n",
    "X_test_prep=np.array(X_test).reshape((len(X_test),1025*32))\n",
    "X_test_prep=np.array(X_test_prep).astype('float')/255 #Normalization\n",
    "y_test_prep=np.array(y_test)"
   ]
  },
  {
   "cell_type": "code",
   "execution_count": null,
   "id": "ce72d180",
   "metadata": {},
   "outputs": [],
   "source": [
    "clf= MLPClassifier(activation='logistic',hidden_layer_sizes=(10,),solver='sgd')\n",
    "clf.fit(X_train_prep, y_train_prep)"
   ]
  },
  {
   "cell_type": "code",
   "execution_count": null,
   "id": "2208d9eb",
   "metadata": {},
   "outputs": [],
   "source": [
    "y_pred=clf.predict(X_test_prep)"
   ]
  },
  {
   "cell_type": "code",
   "execution_count": null,
   "id": "cb4b4507",
   "metadata": {},
   "outputs": [],
   "source": [
    "f1_score(y_test_prep, y_pred, average='weighted')"
   ]
  }
 ],
 "metadata": {
  "kernelspec": {
   "display_name": "dlenv",
   "language": "python",
   "name": "python3"
  },
  "language_info": {
   "codemirror_mode": {
    "name": "ipython",
    "version": 3
   },
   "file_extension": ".py",
   "mimetype": "text/x-python",
   "name": "python",
   "nbconvert_exporter": "python",
   "pygments_lexer": "ipython3",
   "version": "3.12.7"
  }
 },
 "nbformat": 4,
 "nbformat_minor": 5
}
