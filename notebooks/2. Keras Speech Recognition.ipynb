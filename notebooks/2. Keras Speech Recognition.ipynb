{
 "cells": [
  {
   "cell_type": "markdown",
   "id": "21a1ddd6",
   "metadata": {},
   "source": [
    "# Speech Regognition with Keras"
   ]
  },
  {
   "cell_type": "code",
   "execution_count": null,
   "id": "366cb095",
   "metadata": {},
   "outputs": [],
   "source": [
    "import os\n",
    "import librosa\n",
    "import tensorflow as tf\n",
    "from IPython.display import Audio, display,update_display\n",
    "import numpy as np"
   ]
  },
  {
   "cell_type": "code",
   "execution_count": null,
   "id": "643afbd1",
   "metadata": {},
   "outputs": [],
   "source": [
    "DATASET_ROOT = \"~/projects/.kaggle/16000_pcm_speeches\"\n",
    "BENJAMIN_DATA= os.path.join(DATASET_ROOT, \"Benjamin_Netanyahu\")\n",
    "JENS_DATA= os.path.join(DATASET_ROOT, \"Jens_Stoltenberg\")\n",
    "JULIA_DATA=os.path.join(DATASET_ROOT, \"Julia_Gillard\")\n",
    "MARGARET_DATA=os.path.join(DATASET_ROOT, \"Margaret_Thatcher\")\n",
    "NELSON_DATA=os.path.join(DATASET_ROOT, \"Nelson_Mandela\")"
   ]
  },
  {
   "cell_type": "code",
   "execution_count": 36,
   "id": "22f2a3ae",
   "metadata": {},
   "outputs": [
    {
     "name": "stdout",
     "output_type": "stream",
     "text": [
      "~projects/.kaggle/input/16000_pcm_speeches/Benjamin_Netanyahu\n"
     ]
    }
   ],
   "source": [
    "print(BENJAMIN_DATA)"
   ]
  },
  {
   "cell_type": "code",
   "execution_count": 43,
   "id": "c8b0478c",
   "metadata": {},
   "outputs": [],
   "source": [
    "def parse_dataset(dataset_paths):\n",
    "    X=[]\n",
    "    y=[]\n",
    "    for index, dataset in enumerate(dataset_paths):\n",
    "        print(f\"Parsing dataset {dataset}...\")\n",
    "        for fname in os.listdir(dataset):\n",
    "            wav,sr=librosa.load(os.path.join(dataset, fname), sr=None)\n",
    "            D=librosa.amplitude_to_db(np.abs(librosa.stft(wav)), ref=np.max)\n",
    "            X.append\n",
    "            y.append\n",
    "    return(X,y)"
   ]
  },
  {
   "cell_type": "code",
   "execution_count": 44,
   "id": "1fd70368",
   "metadata": {},
   "outputs": [
    {
     "name": "stdout",
     "output_type": "stream",
     "text": [
      "Parsing dataset /projects/.kaggle/16000_pcm_speeches/Benjamin_Netanyahu...\n"
     ]
    },
    {
     "ename": "FileNotFoundError",
     "evalue": "[Errno 2] No such file or directory: '/projects/.kaggle/16000_pcm_speeches/Benjamin_Netanyahu'",
     "output_type": "error",
     "traceback": [
      "\u001b[31m---------------------------------------------------------------------------\u001b[39m",
      "\u001b[31mFileNotFoundError\u001b[39m                         Traceback (most recent call last)",
      "\u001b[36mCell\u001b[39m\u001b[36m \u001b[39m\u001b[32mIn[44]\u001b[39m\u001b[32m, line 1\u001b[39m\n\u001b[32m----> \u001b[39m\u001b[32m1\u001b[39m X,y=\u001b[43mparse_dataset\u001b[49m\u001b[43m(\u001b[49m\u001b[43m[\u001b[49m\u001b[43mBENJAMIN_DATA\u001b[49m\u001b[43m,\u001b[49m\u001b[43m \u001b[49m\u001b[43mJENS_DATA\u001b[49m\u001b[43m,\u001b[49m\u001b[43m \u001b[49m\u001b[43mJULIA_DATA\u001b[49m\u001b[43m,\u001b[49m\u001b[43m \u001b[49m\u001b[43mMARGARET_DATA\u001b[49m\u001b[43m,\u001b[49m\u001b[43m \u001b[49m\u001b[43mNELSON_DATA\u001b[49m\u001b[43m]\u001b[49m\u001b[43m)\u001b[49m\n",
      "\u001b[36mCell\u001b[39m\u001b[36m \u001b[39m\u001b[32mIn[43]\u001b[39m\u001b[32m, line 6\u001b[39m, in \u001b[36mparse_dataset\u001b[39m\u001b[34m(dataset_paths)\u001b[39m\n\u001b[32m      4\u001b[39m \u001b[38;5;28;01mfor\u001b[39;00m index, dataset \u001b[38;5;129;01min\u001b[39;00m \u001b[38;5;28menumerate\u001b[39m(dataset_paths):\n\u001b[32m      5\u001b[39m     \u001b[38;5;28mprint\u001b[39m(\u001b[33mf\u001b[39m\u001b[33m\"\u001b[39m\u001b[33mParsing dataset \u001b[39m\u001b[38;5;132;01m{\u001b[39;00mdataset\u001b[38;5;132;01m}\u001b[39;00m\u001b[33m...\u001b[39m\u001b[33m\"\u001b[39m)\n\u001b[32m----> \u001b[39m\u001b[32m6\u001b[39m     \u001b[38;5;28;01mfor\u001b[39;00m fname \u001b[38;5;129;01min\u001b[39;00m \u001b[43mos\u001b[49m\u001b[43m.\u001b[49m\u001b[43mlistdir\u001b[49m\u001b[43m(\u001b[49m\u001b[43mdataset\u001b[49m\u001b[43m)\u001b[49m:\n\u001b[32m      7\u001b[39m         wav,sr=librosa.load(os.path.join(dataset, fname), sr=\u001b[38;5;28;01mNone\u001b[39;00m)\n\u001b[32m      8\u001b[39m         D=librosa.amplitude_to_db(np.abs(librosa.stft(wav)), ref=np.max)\n",
      "\u001b[31mFileNotFoundError\u001b[39m: [Errno 2] No such file or directory: '/projects/.kaggle/16000_pcm_speeches/Benjamin_Netanyahu'"
     ]
    }
   ],
   "source": [
    "X,y=parse_dataset([BENJAMIN_DATA, JENS_DATA, JULIA_DATA, MARGARET_DATA, NELSON_DATA])"
   ]
  }
 ],
 "metadata": {
  "kernelspec": {
   "display_name": "dlenv",
   "language": "python",
   "name": "python3"
  },
  "language_info": {
   "codemirror_mode": {
    "name": "ipython",
    "version": 3
   },
   "file_extension": ".py",
   "mimetype": "text/x-python",
   "name": "python",
   "nbconvert_exporter": "python",
   "pygments_lexer": "ipython3",
   "version": "3.12.7"
  }
 },
 "nbformat": 4,
 "nbformat_minor": 5
}
